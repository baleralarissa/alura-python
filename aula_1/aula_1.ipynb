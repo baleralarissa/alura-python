{
 "cells": [
  {
   "cell_type": "markdown",
   "id": "eeb99b0c",
   "metadata": {
    "id": "_kwAaQ36gLQ1"
   },
   "source": [
    "# Sobre o notebook\n",
    "\n",
    "A \"hora da prática\" é uma atividade do curso de Python para Data Science da Alura que contém diversos desafios envolvendo os aprendizados de cada aula.\n",
    "\n",
    "O notebook \"hora da pratica\" é um notebook construído com espaço para as células dos desafios propostos no curso, com ele você tem espaço para construir e executar suas soluções"
   ]
  },
  {
   "cell_type": "markdown",
   "id": "bf87abc2",
   "metadata": {
    "id": "Mc-KN0dA0Z83"
   },
   "source": [
    "## Aula 1 - Introdução ao Python"
   ]
  },
  {
   "cell_type": "markdown",
   "id": "72d23072",
   "metadata": {
    "id": "l5eLWf0W0ikn"
   },
   "source": [
    "### Questão 1\n",
    "\n",
    "Imprima a frase `Escola de Dados da Alura!`"
   ]
  },
  {
   "cell_type": "code",
   "execution_count": null,
   "id": "80310a9f",
   "metadata": {
    "id": "5pllxJ0h0-yA"
   },
   "outputs": [],
   "source": [
    "print(\"Escola de Dados da Alura\")"
   ]
  },
  {
   "cell_type": "markdown",
   "id": "2f6e0fea",
   "metadata": {
    "id": "tQdX90Ue03c7"
   },
   "source": [
    "### Questão 2\n",
    "Imprima na tela seu nome e seu sobrenome seguindo a estrutura abaixo:\n",
    "```\n",
    "Nome: [seu nome]\n",
    "Sobrenome: [seu sobrenome]\n",
    "```\n"
   ]
  },
  {
   "cell_type": "code",
   "execution_count": null,
   "id": "d1aabe11",
   "metadata": {
    "id": "RVw5iKn20_Ps"
   },
   "outputs": [],
   "source": [
    "print(\"Nome: Larissa\")\n",
    "print(\"Sobrenome: Balera\")"
   ]
  },
  {
   "cell_type": "markdown",
   "id": "7b891335",
   "metadata": {
    "id": "gfg-aiip03vC"
   },
   "source": [
    "### Questão 3\n",
    "Imprima o seu primeiro nome letra a letra. Por exemplo, nome é Mirla, então eu obtenho a seguinte saída:\n",
    "```\n",
    "M\n",
    "I\n",
    "R\n",
    "L\n",
    "A\n",
    "```\n"
   ]
  },
  {
   "cell_type": "code",
   "execution_count": null,
   "id": "37807157",
   "metadata": {
    "id": "v5bkrgf60_qx"
   },
   "outputs": [],
   "source": [
    "nome = \"Larissa\"\n",
    "letras = list(nome)\n",
    "\n",
    "for l in letras:\n",
    "    print(l)"
   ]
  },
  {
   "cell_type": "markdown",
   "id": "ad1593b8",
   "metadata": {
    "id": "oadrJbl704MM"
   },
   "source": [
    "### Questão 4\n",
    "Imprima o dia do seu nascimento em formato `dia mês ano`. Os valores de dia e ano não podem estar entre aspas. O formato deve estar como no exemplo, supondo uma data de aniversário dia 28 de fevereiro de 2003:\n",
    "```\n",
    "28 fevereiro 2003\n",
    "```"
   ]
  },
  {
   "cell_type": "code",
   "execution_count": null,
   "id": "66d7d38b",
   "metadata": {
    "id": "cx0KSsrq1ALD"
   },
   "outputs": [],
   "source": [
    "print(8, \"fevereiro\", 1997)"
   ]
  },
  {
   "cell_type": "markdown",
   "id": "283b111c",
   "metadata": {
    "id": "3RgyMaan04TD"
   },
   "source": [
    "### Questão 5\n",
    "Imprima em um único print o atual ano que você está fazendo esse curso, o valor do ano deve ser um dado numérico. A saída do print deve ser a seguinte:\n",
    "```\n",
    "Ano atual: [ano]\n",
    "```\n"
   ]
  },
  {
   "cell_type": "code",
   "execution_count": null,
   "id": "fa8ff511",
   "metadata": {
    "id": "UN77EfQ2d36Y"
   },
   "outputs": [],
   "source": [
    "import datetime \n",
    "\n",
    "hoje = datetime.date.today()\n",
    "ano = hoje.year\n",
    "\n",
    "print(\"Ano atual:\", ano)\n"
   ]
  }
 ],
 "metadata": {
  "jupytext": {
   "main_language": "python"
  },
  "kernelspec": {
   "display_name": "Python 3",
   "name": "python3"
  }
 },
 "nbformat": 4,
 "nbformat_minor": 5
}
